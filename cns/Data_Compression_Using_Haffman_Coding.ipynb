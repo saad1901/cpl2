{
  "nbformat": 4,
  "nbformat_minor": 0,
  "metadata": {
    "colab": {
      "provenance": []
    },
    "kernelspec": {
      "name": "python3",
      "display_name": "Python 3"
    },
    "language_info": {
      "name": "python"
    }
  },
  "cells": [
    {
      "cell_type": "code",
      "execution_count": null,
      "metadata": {
        "colab": {
          "base_uri": "https://localhost:8080/"
        },
        "id": "CMgK6v5jzJEn",
        "outputId": "27370e23-352c-4f76-d501-5a9dcccf2c81"
      },
      "outputs": [
        {
          "output_type": "stream",
          "name": "stdout",
          "text": [
            "Original text: this is an example for huffman encoding\n",
            "Compressed text: 0101001001001001010110010010101111100010111100111011110011100000110111101011101110010110010101001100011011101001111110001011110000011111100101011100100010001\n",
            "Huffman Codes: {'n': '000', 's': '0010', 'm': '0011', 'h': '0100', 't': '01010', 'd': '01011', 'r': '01100', 'l': '01101', 'x': '01110', 'c': '01111', 'p': '10000', 'g': '10001', 'i': '1001', ' ': '101', 'u': '11000', 'o': '11001', 'f': '1101', 'e': '1110', 'a': '1111'}\n",
            "Decoded text: this is an example for huffman encoding\n"
          ]
        }
      ],
      "source": [
        "import heapq\n",
        "from collections import defaultdict\n",
        "\n",
        "class Node:\n",
        "    def __init__(self, char, freq):\n",
        "        self.char = char\n",
        "        self.freq = freq\n",
        "        self.left = None\n",
        "        self.right = None\n",
        "\n",
        "    # Define comparison operators for the heap\n",
        "    def __lt__(self, other):\n",
        "        return self.freq < other.freq\n",
        "\n",
        "def build_huffman_tree(text):\n",
        "    # Calculate frequency of each character\n",
        "    frequency = defaultdict(int)\n",
        "    for char in text:\n",
        "        frequency[char] += 1\n",
        "\n",
        "    # Create a priority queue (min-heap)\n",
        "    heap = [Node(char, freq) for char, freq in frequency.items()]\n",
        "    heapq.heapify(heap)\n",
        "\n",
        "    # Build the Huffman Tree\n",
        "    while len(heap) > 1:\n",
        "        left = heapq.heappop(heap)\n",
        "        right = heapq.heappop(heap)\n",
        "        merged = Node(None, left.freq + right.freq)\n",
        "        merged.left = left\n",
        "        merged.right = right\n",
        "        heapq.heappush(heap, merged)\n",
        "\n",
        "    return heap[0]  # Root of the tree\n",
        "\n",
        "def build_codes(node, current_code=\"\", codes={}):\n",
        "    if node is None:\n",
        "        return\n",
        "    if node.char is not None:\n",
        "        codes[node.char] = current_code\n",
        "    build_codes(node.left, current_code + \"0\", codes)\n",
        "    build_codes(node.right, current_code + \"1\", codes)\n",
        "    return codes\n",
        "\n",
        "def huffman_coding(text):\n",
        "    root = build_huffman_tree(text)\n",
        "    codes = build_codes(root)\n",
        "    return codes\n",
        "\n",
        "def compress(text):\n",
        "    codes = huffman_coding(text)\n",
        "    compressed_text = ''.join(codes[char] for char in text)\n",
        "    return compressed_text, codes\n",
        "\n",
        "def decompress(compressed_text, codes):\n",
        "    # Reverse the codes dictionary to decode\n",
        "    reverse_codes = {v: k for k, v in codes.items()}\n",
        "    current_code = \"\"\n",
        "    decoded_text = \"\"\n",
        "\n",
        "    for bit in compressed_text:\n",
        "        current_code += bit\n",
        "        if current_code in reverse_codes:\n",
        "            decoded_text += reverse_codes[current_code]\n",
        "            current_code = \"\"\n",
        "\n",
        "    return decoded_text\n",
        "\n",
        "# Example usage\n",
        "if __name__ == \"__main__\":\n",
        "    text = \"this is an example for huffman encoding\"\n",
        "    print(\"Original text:\", text)\n",
        "\n",
        "    compressed_text, codes = compress(text)\n",
        "    print(\"Compressed text:\", compressed_text)\n",
        "    print(\"Huffman Codes:\", codes)\n",
        "\n",
        "    decoded_text = decompress(compressed_text, codes)\n",
        "    print(\"Decoded text:\", decoded_text)\n"
      ]
    }
  ]
}